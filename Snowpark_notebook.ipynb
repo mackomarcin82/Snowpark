{
 "cells": [
  {
   "cell_type": "code",
   "execution_count": null,
   "metadata": {},
   "outputs": [
    {
     "ename": "",
     "evalue": "",
     "output_type": "error",
     "traceback": [
      "\u001b[1;31mRunning cells with '.conda (Python 3.8.20)' requires the ipykernel package.\n",
      "\u001b[1;31mRun the following command to install 'ipykernel' into the Python environment. \n",
      "\u001b[1;31mCommand: 'conda install -n .conda ipykernel --update-deps --force-reinstall'"
     ]
    }
   ],
   "source": [
    "#import required libraries\n",
    "\n",
    "import snowflake.snowpark as snowpark\n",
    "from snowflake.snowpark import Session\n",
    "from snowflake.snowpark.session import Session\n",
    "from snowflake.snowpark.functions import col \n",
    "\n",
    "\n",
    "#establishing a connection\n",
    "\n",
    "def create_session_object():\n",
    "    connection_parameters = {\n",
    "        \"account\": \"QEZHSEM-ZMB90776\",\n",
    "        \"user\": \"MACKOMARCIN82\",\n",
    "        \"password\": \"Karamazow19822\",\n",
    "        \"role\": \"SYSADMIN\",  # optional\n",
    "        \"warehouse\": \"COMPUTE_WH\",  # optional\n",
    "        \"database\": \"AGS_GAME_AUDIENCE\",  # optional\n",
    "        \"schema\": \"ENHANCED\",  # optional\n",
    "}\n",
    "    \n",
    "    new_session = Session.builder.configs(connection_parameters).create()\n",
    "    return new_session\n",
    "\n",
    "    \n",
    "    \n",
    "def create_dataframe(session):\n",
    "  \n",
    "    # Create a dataframe\n",
    "    df_table = session.table(\"AGS_GAME_AUDIENCE.ENHANCED.LOGS_ENHANCED\")\n",
    "\n",
    "    #---------------------------------\n",
    "    # **ACTIONS**\n",
    "    #---------------------------------\n",
    "\n",
    "    # count method\n",
    "    df_table.count()\n",
    "    # print(df_table.count()) \n",
    "  \n",
    "    # show method\n",
    "    df_table.show()\n",
    "  \n",
    "    # collect method\n",
    "    df_results = df_table.collect()\n",
    "    # print(df_results) \n",
    "  \n",
    "    #---------------------------------\n",
    "    # **TRANSFORMATIONS **\n",
    "    #---------------------------------\n",
    "  \n",
    "    df_filtered = df_table.filter(col(\"City\") == 'Warsaw')\n",
    "  \n",
    "    # Chaining method calls\n",
    "    # df_filtered = df_table.filter(col(\"CS_BILL_CUSTOMER_SK\") > 6000000).sort(col(\"CS_SHIP_ADDR_SK\").desc()).limit(2000000)\n",
    "\n",
    "    df_filtered.show()\n",
    "  \n",
    "    df_filtered.collect()\n",
    "  \n",
    "    df_filtered_persisted = df_filtered.collect()\n",
    "    # print(df_filtered_persisted)\n",
    "\n",
    "\n",
    "\n",
    "# call session object\n",
    "session = create_session_object()\n",
    "\n",
    "# call create dataframe \n",
    "_ = create_dataframe(session) \n",
    "\n",
    "# end your session\n",
    "session.close()"
   ]
  }
 ],
 "metadata": {
  "kernelspec": {
   "display_name": ".conda",
   "language": "python",
   "name": "python3"
  },
  "language_info": {
   "name": "python",
   "version": "3.8.20"
  }
 },
 "nbformat": 4,
 "nbformat_minor": 2
}
